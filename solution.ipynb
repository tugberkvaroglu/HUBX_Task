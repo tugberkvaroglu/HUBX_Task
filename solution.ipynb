{
 "cells": [
  {
   "cell_type": "code",
   "execution_count": 1,
   "metadata": {},
   "outputs": [],
   "source": [
    "import os\n",
    "import torch\n",
    "import torch.nn\n",
    "import random\n",
    "from PIL import Image\n",
    "from torchvision import transforms, models\n",
    "from torch.utils.data import DataLoader, Dataset, random_split\n"
   ]
  },
  {
   "cell_type": "code",
   "execution_count": 4,
   "metadata": {},
   "outputs": [
    {
     "data": {
      "text/plain": [
       "device(type='cuda')"
      ]
     },
     "execution_count": 4,
     "metadata": {},
     "output_type": "execute_result"
    }
   ],
   "source": [
    "device = torch.device(\"cuda\" if torch.cuda.is_available() else \"cpu\")\n",
    "device"
   ]
  },
  {
   "cell_type": "code",
   "execution_count": null,
   "metadata": {},
   "outputs": [],
   "source": [
    "#Class for aranging the label.\n",
    "class ImageFolderWithLabels(Dataset):\n",
    "    def __init__(self, root_dir, transform=None):\n",
    "        \n",
    "        self.root_dir = root_dir\n",
    "        self.transform = transform\n",
    "        self.images = []\n",
    "        self.labels = []\n",
    "\n",
    "        for label, subdir in enumerate(os.listdir(root_dir)):\n",
    "            subdir_path = os.path.join(root_dir, subdir)\n",
    "            if os.path.isdir(subdir_path):\n",
    "                for filename in os.listdir(subdir_path):\n",
    "                    file_path = os.path.join(subdir_path, filename)\n",
    "                    self.images.append(file_path)\n",
    "                    self.labels.append(label)  # 0 for normal, 1 for artifact\n",
    "\n",
    "    def __len__(self):\n",
    "        return len(self.images)\n",
    "\n",
    "    def __getitem__(self, idx):\n",
    "        img_path = self.images[idx]\n",
    "        image = Image.open(img_path).convert('RGB')\n",
    "        label = self.labels[idx]\n",
    "\n",
    "        if self.transform:\n",
    "            image = self.transform(image)\n",
    "\n",
    "        return image, label"
   ]
  },
  {
   "cell_type": "code",
   "execution_count": 2,
   "metadata": {},
   "outputs": [],
   "source": [
    "data_transforms = transforms.Compose([\n",
    "    transforms.Resize((224, 224)),\n",
    "    transforms.ToTensor(),\n",
    "    transforms.Normalize([0.485, 0.456, 0.406], [0.229, 0.224, 0.225])\n",
    "])"
   ]
  },
  {
   "cell_type": "code",
   "execution_count": 5,
   "metadata": {},
   "outputs": [],
   "source": [
    "hand_dir = 'images/hand'\n",
    "face_dir = 'images/face'\n",
    "body_dir = 'images/body'\n",
    "hand_art_dir = 'images/hand-art'\n",
    "face_art_dir = 'images/face-art'\n",
    "body_art_dir = 'images/body-art'"
   ]
  },
  {
   "cell_type": "code",
   "execution_count": null,
   "metadata": {},
   "outputs": [],
   "source": [
    "hand_dataset = ImageFolderWithLabels(hand_dir, transform=data_transforms)\n",
    "face_dataset = ImageFolderWithLabels(face_dir, transform=data_transforms)\n",
    "body_dataset = ImageFolderWithLabels(body_dir, transform=data_transforms)\n",
    "hand_art_dataset = ImageFolderWithLabels(hand_art_dir, transform=data_transforms)\n",
    "face_art_dataset = ImageFolderWithLabels(face_art_dir, transform=data_transforms)\n",
    "body_art_dataset = ImageFolderWithLabels(body_art_dir, transform=data_transforms)"
   ]
  },
  {
   "cell_type": "code",
   "execution_count": null,
   "metadata": {},
   "outputs": [],
   "source": [
    "hand_train_size = int(0.7 * len(hand_dataset))\n",
    "hand_val_size = int(0.15 * len(hand_dataset))\n",
    "hand_test_size = len(hand_dataset) - hand_train_size - hand_val_size\n",
    "\n",
    "face_train_size = int(0.7 * len(face_dataset))\n",
    "face_val_size = int(0.15 * len(face_dataset))\n",
    "face_test_size = len(face_dataset) - face_train_size - face_val_size\n",
    "\n",
    "body_train_size = int(0.7 * len(body_dataset))\n",
    "body_val_size = int(0.15 * len(body_dataset))\n",
    "body_test_size = len(body_dataset) - body_train_size - body_val_size\n",
    "\n",
    "hand_art_train_size = int(0.7 * len(hand_art_dataset))\n",
    "hand_art_val_size = int(0.15 * len(hand_art_dataset))\n",
    "hand_art_test_size = len(hand_art_dataset) - hand_art_train_size - hand_art_val_size\n",
    "\n",
    "face_art_train_size = int(0.7 * len(face_art_dataset))\n",
    "face_art_val_size = int(0.15 * len(face_art_dataset))\n",
    "face_art_test_size = len(face_art_dataset) - face_art_train_size - face_art_val_size\n",
    "\n",
    "body_art_train_size = int(0.7 * len(body_art_dataset))\n",
    "body_art_val_size = int(0.15 * len(body_art_dataset))\n",
    "body_art_test_size = len(body_art_dataset) - body_art_train_size - body_art_val_size"
   ]
  },
  {
   "cell_type": "code",
   "execution_count": null,
   "metadata": {},
   "outputs": [],
   "source": [
    "hand_train_dataset, hand_val_dataset, hand_test_dataset = random_split(hand_dataset, [hand_train_size, hand_val_size, hand_test_size], generator=torch.Generator().manual_seed(42))\n",
    "face_train_dataset, face_val_dataset, face_test_dataset = random_split(face_dataset, [face_train_size, face_val_size, face_test_size], generator=torch.Generator().manual_seed(42))\n",
    "body_train_dataset, body_val_dataset, body_test_dataset = random_split(body_dataset, [body_train_size, body_val_size, body_test_size], generator=torch.Generator().manual_seed(42))\n",
    "hand_art_train_dataset, hand_art_val_dataset, hand_art_test_dataset = random_split(hand_art_dataset, [hand_art_train_size, hand_art_val_size, hand_art_test_size], generator=torch.Generator().manual_seed(42))\n",
    "face_art_train_dataset, face_art_val_dataset, face_art_test_dataset = random_split(face_art_dataset, [face_art_train_size, face_art_val_size, face_art_test_size], generator=torch.Generator().manual_seed(42))\n",
    "body_art_train_dataset, body_art_val_dataset, body_art_test_dataset = random_split(body_art_dataset, [body_art_train_size, body_art_val_size, body_art_test_size], generator=torch.Generator().manual_seed(42))"
   ]
  },
  {
   "cell_type": "code",
   "execution_count": null,
   "metadata": {},
   "outputs": [],
   "source": [
    "hand_train_loader = DataLoader(hand_train_dataset, batch_size=32, shuffle=True)\n",
    "hand_val_loader = DataLoader(hand_val_dataset, batch_size=32, shuffle=False)\n",
    "hand_test_loader = DataLoader(hand_test_dataset, batch_size=32, shuffle=False)\n",
    "\n",
    "face_train_loader = DataLoader(face_train_dataset, batch_size=32, shuffle=True)\n",
    "face_val_loader = DataLoader(face_val_dataset, batch_size=32, shuffle=False)\n",
    "face_test_loader = DataLoader(face_test_dataset, batch_size=32, shuffle=False)\n",
    "\n",
    "body_train_loader = DataLoader(body_train_dataset, batch_size=32, shuffle=True)\n",
    "body_val_loader = DataLoader(body_val_dataset, batch_size=32, shuffle=False)\n",
    "body_test_loader = DataLoader(body_test_dataset, batch_size=32, shuffle=False)\n",
    "\n",
    "hand_art_train_loader = DataLoader(hand_art_train_dataset, batch_size=32, shuffle=True)\n",
    "hand_art_val_loader = DataLoader(hand_art_val_dataset, batch_size=32, shuffle=False)\n",
    "hand_art_test_loader = DataLoader(hand_art_test_dataset, batch_size=32, shuffle=False)\n",
    "\n",
    "face_arttrain_loader = DataLoader(face_art_train_dataset, batch_size=32, shuffle=True)\n",
    "face_artval_loader = DataLoader(face_art_val_dataset, batch_size=32, shuffle=False)\n",
    "face_arttest_loader = DataLoader(face_art_test_dataset, batch_size=32, shuffle=False)\n",
    "\n",
    "body_art_train_loader = DataLoader(body_art_train_dataset, batch_size=32, shuffle=True)\n",
    "body_art_val_loader = DataLoader(body_art_val_dataset, batch_size=32, shuffle=False)\n",
    "body_art_test_loader = DataLoader(body_art_test_dataset, batch_size=32, shuffle=False)"
   ]
  },
  {
   "cell_type": "code",
   "execution_count": null,
   "metadata": {},
   "outputs": [],
   "source": [
    "print(f\"Train Dataset Size: {len(hand_train_dataset)}\")\n",
    "print(f\"Validation Dataset Size: {len(hand_val_dataset)}\")\n",
    "print(f\"Test Dataset Size: {len(hand_test_dataset)}\")\n",
    "\n",
    "print(f\"Train Dataset Size: {len(face_train_dataset)}\")\n",
    "print(f\"Validation Dataset Size: {len(face_val_dataset)}\")\n",
    "print(f\"Test Dataset Size: {len(face_test_dataset)}\")\n",
    "\n",
    "print(f\"Train Dataset Size: {len(body_train_dataset)}\")\n",
    "print(f\"Validation Dataset Size: {len(body_val_dataset)}\")\n",
    "print(f\"Test Dataset Size: {len(body_test_dataset)}\")\n",
    "\n",
    "print(f\"Train Dataset Size: {len(hand_art_train_dataset)}\")\n",
    "print(f\"Validation Dataset Size: {len(hand_art_val_dataset)}\")\n",
    "print(f\"Test Dataset Size: {len(hand_art_test_dataset)}\")\n",
    "\n",
    "print(f\"Train Dataset Size: {len(face_art_train_dataset)}\")\n",
    "print(f\"Validation Dataset Size: {len(face_art_val_dataset)}\")\n",
    "print(f\"Test Dataset Size: {len(face_art_test_dataset)}\")\n",
    "\n",
    "print(f\"Train Dataset Size: {len(body_art_train_dataset)}\")\n",
    "print(f\"Validation Dataset Size: {len(body_art_val_dataset)}\")\n",
    "print(f\"Test Dataset Size: {len(body_art_test_dataset)}\")"
   ]
  },
  {
   "cell_type": "code",
   "execution_count": null,
   "metadata": {},
   "outputs": [],
   "source": [
    "model = models.resnet50(pretrained=True)\n",
    "num_features = model.fc.in_features\n",
    "model.fc = nn.Linear(num_features, 2)  # Assuming binary classification (normal, artifact)\n",
    "model = model.to(device)"
   ]
  }
 ],
 "metadata": {
  "kernelspec": {
   "display_name": "Python 3",
   "language": "python",
   "name": "python3"
  },
  "language_info": {
   "codemirror_mode": {
    "name": "ipython",
    "version": 3
   },
   "file_extension": ".py",
   "mimetype": "text/x-python",
   "name": "python",
   "nbconvert_exporter": "python",
   "pygments_lexer": "ipython3",
   "version": "3.10.12"
  }
 },
 "nbformat": 4,
 "nbformat_minor": 2
}
