{
 "cells": [
  {
   "cell_type": "code",
   "execution_count": 1,
   "metadata": {},
   "outputs": [],
   "source": [
    "import os\n",
    "import torch\n",
    "import random\n",
    "from PIL import Image\n",
    "from torchvision import transforms\n",
    "from torch.utils.data import DataLoader, Dataset, random_split\n"
   ]
  },
  {
   "cell_type": "code",
   "execution_count": 4,
   "metadata": {},
   "outputs": [
    {
     "data": {
      "text/plain": [
       "device(type='cuda')"
      ]
     },
     "execution_count": 4,
     "metadata": {},
     "output_type": "execute_result"
    }
   ],
   "source": [
    "device = torch.device(\"cuda\" if torch.cuda.is_available() else \"cpu\")\n",
    "device"
   ]
  },
  {
   "cell_type": "code",
   "execution_count": null,
   "metadata": {},
   "outputs": [],
   "source": [
    "#Class for aranging the label.\n",
    "class ImageFolderWithLabels(Dataset):\n",
    "    def __init__(self, root_dir, transform=None):\n",
    "        \n",
    "        self.root_dir = root_dir\n",
    "        self.transform = transform\n",
    "        self.images = []\n",
    "        self.labels = []\n",
    "\n",
    "        for label, subdir in enumerate(os.listdir(root_dir)):\n",
    "            subdir_path = os.path.join(root_dir, subdir)\n",
    "            if os.path.isdir(subdir_path):\n",
    "                for filename in os.listdir(subdir_path):\n",
    "                    file_path = os.path.join(subdir_path, filename)\n",
    "                    self.images.append(file_path)\n",
    "                    self.labels.append(label)  # 0 for normal, 1 for artifact\n",
    "\n",
    "    def __len__(self):\n",
    "        return len(self.images)\n",
    "\n",
    "    def __getitem__(self, idx):\n",
    "        img_path = self.images[idx]\n",
    "        image = Image.open(img_path).convert('RGB')\n",
    "        label = self.labels[idx]\n",
    "\n",
    "        if self.transform:\n",
    "            image = self.transform(image)\n",
    "\n",
    "        return image, label"
   ]
  },
  {
   "cell_type": "code",
   "execution_count": 2,
   "metadata": {},
   "outputs": [],
   "source": [
    "data_transforms = transforms.Compose([\n",
    "    transforms.Resize((224, 224)),\n",
    "    transforms.ToTensor(),\n",
    "    transforms.Normalize([0.485, 0.456, 0.406], [0.229, 0.224, 0.225])\n",
    "])"
   ]
  },
  {
   "cell_type": "code",
   "execution_count": 5,
   "metadata": {},
   "outputs": [],
   "source": [
    "hand_dir = 'images/hand'\n",
    "face_dir = 'images/face'\n",
    "body_dir = 'images/body'\n",
    "hand_art_dir = 'images/hand-art'\n",
    "face_art_dir = 'images/face-art'\n",
    "body_art_dir = 'images/body-art'"
   ]
  },
  {
   "cell_type": "code",
   "execution_count": null,
   "metadata": {},
   "outputs": [],
   "source": [
    "hand_dataset = ImageFolderWithLabels(hand_dir, transform=data_transforms)\n",
    "face_dataset = ImageFolderWithLabels(face_dir, transform=data_transforms)\n",
    "body_dataset = ImageFolderWithLabels(body_dir, transform=data_transforms)\n",
    "hand_art_dataset = ImageFolderWithLabels(hand_art_dir, transform=data_transforms)\n",
    "face_art_dataset = ImageFolderWithLabels(face_art_dir, transform=data_transforms)\n",
    "body_art_dataset = ImageFolderWithLabels(body_art_dir, transform=data_transforms)"
   ]
  },
  {
   "cell_type": "code",
   "execution_count": null,
   "metadata": {},
   "outputs": [],
   "source": [
    "hand_train_size = int(0.7 * len(hand_dataset))\n",
    "hand_val_size = int(0.15 * len(hand_dataset))\n",
    "hand_test_size = len(hand_dataset) - hand_train_size - hand_val_size\n",
    "\n",
    "face_train_size = int(0.7 * len(face_dataset))\n",
    "face_val_size = int(0.15 * len(face_dataset))\n",
    "face_test_size = len(face_dataset) - face_train_size - face_val_size\n",
    "\n",
    "body_train_size = int(0.7 * len(body_dataset))\n",
    "body_val_size = int(0.15 * len(body_dataset))\n",
    "body_test_size = len(body_dataset) - body_train_size - body_val_size\n",
    "\n",
    "hand_art_train_size = int(0.7 * len(hand_art_dataset))\n",
    "hand_art_val_size = int(0.15 * len(hand_art_dataset))\n",
    "hand_art_test_size = len(hand_art_dataset) - hand_art_train_size - hand_art_val_size\n",
    "\n",
    "face_art_train_size = int(0.7 * len(face_art_dataset))\n",
    "face_art_val_size = int(0.15 * len(face_art_dataset))\n",
    "face_art_test_size = len(face_art_dataset) - face_art_train_size - face_art_val_size\n",
    "\n",
    "body_art_train_size = int(0.7 * len(body_art_dataset))\n",
    "body_art_val_size = int(0.15 * len(body_art_dataset))\n",
    "body_art_test_size = len(body_art_dataset) - body_art_train_size - body_art_val_size"
   ]
  }
 ],
 "metadata": {
  "kernelspec": {
   "display_name": "Python 3",
   "language": "python",
   "name": "python3"
  },
  "language_info": {
   "codemirror_mode": {
    "name": "ipython",
    "version": 3
   },
   "file_extension": ".py",
   "mimetype": "text/x-python",
   "name": "python",
   "nbconvert_exporter": "python",
   "pygments_lexer": "ipython3",
   "version": "3.10.12"
  }
 },
 "nbformat": 4,
 "nbformat_minor": 2
}
